{
 "cells": [
  {
   "cell_type": "code",
   "execution_count": null,
   "metadata": {
    "collapsed": false,
    "scrolled": false
   },
   "outputs": [],
   "source": [
    "from __future__ import print_function\n",
    "import numpy as np\n",
    "np.random.seed(1337)  # for reproducibility\n",
    "\n",
    "\n",
    "from scipy.misc import toimage\n",
    "from scipy.misc import imresize\n",
    "from keras.datasets import mnist\n",
    "from keras.models import Sequential\n",
    "from keras.layers import Dense, Dropout, Activation, Flatten, BatchNormalization, ZeroPadding2D\n",
    "from keras.layers import Convolution2D, MaxPooling2D\n",
    "from keras.utils import np_utils"
   ]
  },
  {
   "cell_type": "code",
   "execution_count": null,
   "metadata": {
    "collapsed": false,
    "scrolled": false
   },
   "outputs": [
    {
     "name": "stdout",
     "output_type": "stream",
     "text": [
      "(60000, 28, 28)\n",
      "(60000, 32, 100)\n",
      "(32, 100)\n",
      "X_train shape: (60000, 1, 32, 100)\n",
      "(1, 32, 100)\n",
      "60000 train samples\n",
      "10000 test samples\n",
      "Compiling model\n",
      "Fitting model\n",
      "Train on 60000 samples, validate on 10000 samples\n",
      "Epoch 1/1\n",
      " 3390/60000 [>.............................] - ETA: 431s - loss: 2.4642 - acc: 0.2985"
     ]
    }
   ],
   "source": [
    "img_rows = 32\n",
    "img_cols = 100\n",
    "nb_classes = 12304\n",
    "nb_epoch = 1\n",
    "\n",
    "# the data, shuffled and split between train and test sets\n",
    "(X_train, y_train), (X_test, y_test) = mnist.load_data()\n",
    "\n",
    "print(str(X_train.shape))\n",
    "\n",
    "toimage(X_train[0]).save(\"output2.jpg\")\n",
    "\n",
    "X_train = np.array(map(lambda x: imresize(x, (32, 100)), X_train))\n",
    "X_test = np.array(map(lambda x: imresize(x, (32, 100)), X_test))\n",
    "\n",
    "print(str(X_train.shape))\n",
    "print(str(X_train[0].shape))\n",
    "\n",
    "X_train = X_train.reshape(X_train.shape[0], 1, img_rows, img_cols)\n",
    "X_test = X_test.reshape(X_test.shape[0], 1, img_rows, img_cols)\n",
    "X_train = X_train.astype('float32')\n",
    "X_test = X_test.astype('float32')\n",
    "X_train /= 255\n",
    "X_test /= 255\n",
    "print('X_train shape:', X_train.shape)\n",
    "\n",
    "print(X_train[0].shape)\n",
    "\n",
    "toimage(X_train[0].reshape(32, 100)).save('output.jpg')\n",
    "\n",
    "print(X_train.shape[0], 'train samples')\n",
    "print(X_test.shape[0], 'test samples')\n",
    "\n",
    "\n",
    "\n",
    "# convert class vectors to binary class matrices\n",
    "Y_train = np_utils.to_categorical(y_train, nb_classes)\n",
    "Y_test = np_utils.to_categorical(y_test, nb_classes)\n",
    "\n",
    "model = Sequential()\n",
    "\n",
    "\n",
    "model.add(ZeroPadding2D((2,2), input_shape=(1, img_rows, img_cols)))\n",
    "model.add(Convolution2D(64, 5, 5, activation = 'relu'))\n",
    "model.add(MaxPooling2D(pool_size=(2, 2)))\n",
    "\n",
    "model.add(ZeroPadding2D((2,2)))\n",
    "model.add(Convolution2D(128, 5, 5, activation = 'relu'))\n",
    "model.add(MaxPooling2D(pool_size=(2, 2)))\n",
    "\n",
    "model.add(ZeroPadding2D((1,1)))\n",
    "model.add(Convolution2D(256, 3, 3, activation = 'relu'))\n",
    "model.add(ZeroPadding2D((1,1)))\n",
    "model.add(Convolution2D(512, 3, 3, activation = 'relu'))\n",
    "model.add(MaxPooling2D(pool_size=(2, 2)))\n",
    "\n",
    "model.add(ZeroPadding2D((1,1)))\n",
    "model.add(Convolution2D(512, 3, 3, activation = 'relu'))\n",
    "model.add(MaxPooling2D(pool_size=(2, 2)))\n",
    "\n",
    "model.add(Flatten())\n",
    "model.add(Dense(4096, activation = 'relu'))\n",
    "model.add(Dropout(0.25))\n",
    "\n",
    "model.add(Dense(4096, activation = 'relu'))\n",
    "model.add(Dropout(0.50))\n",
    "\n",
    "model.add(Dense(nb_classes, activation = 'softmax'))\n",
    "\n",
    "print(\"Compiling model\")\n",
    "\n",
    "model.compile(loss='categorical_crossentropy',\n",
    "              optimizer='adadelta',\n",
    "              metrics=['accuracy'])\n",
    "\n",
    "print(\"Fitting model\")\n",
    "\n",
    "model.fit(X_train, Y_train, batch_size=100, nb_epoch=nb_epoch,\n",
    "          verbose=1, validation_data=(X_test, Y_test))\n",
    "\n",
    "score = model.evaluate(X_test, Y_test, verbose=0)\n",
    "\n",
    "model.save_weights(\"model_output.hdf5\", overwrite = True)\n",
    "\n",
    "print('Test score:', score[0])\n",
    "print('Test accuracy:', score[1])"
   ]
  },
  {
   "cell_type": "code",
   "execution_count": null,
   "metadata": {
    "collapsed": false
   },
   "outputs": [],
   "source": []
  }
 ],
 "metadata": {
  "kernelspec": {
   "display_name": "Python 2",
   "language": "python",
   "name": "python2"
  },
  "language_info": {
   "codemirror_mode": {
    "name": "ipython",
    "version": 2
   },
   "file_extension": ".py",
   "mimetype": "text/x-python",
   "name": "python",
   "nbconvert_exporter": "python",
   "pygments_lexer": "ipython2",
   "version": "2.7.8"
  }
 },
 "nbformat": 4,
 "nbformat_minor": 0
}
